{
 "cells": [
  {
   "cell_type": "markdown",
   "metadata": {},
   "source": [
    "# Outlier-Robust Mixed Integer Optimization Formulations\n",
    "## -By Ali Borenstein and Austin Zaccor\n",
    "### This code is open source and published under an MIT License. Publication forthcoming."
   ]
  },
  {
   "cell_type": "markdown",
   "metadata": {},
   "source": [
    "Synthetic Datasets: \n",
    "Please see Data Generation file\n",
    "\n",
    "Outlier Datasets:\n",
    "http://odds.cs.stonybrook.edu\n",
    "\n",
    "QSAR Aquatic Toxicity:\n",
    "https://archive.ics.uci.edu/ml/datasets/QSAR+aquatic+toxicity"
   ]
  },
  {
   "cell_type": "code",
   "execution_count": null,
   "metadata": {
    "scrolled": false
   },
   "outputs": [],
   "source": [
    "using CSV, JuMP, MathProgBase, Gurobi, Random, LinearAlgebra, StatsBase, Distributions, Plots, BenchmarkTools, Suppressor"
   ]
  },
  {
   "cell_type": "markdown",
   "metadata": {},
   "source": [
    "### Ordinary Least Squares"
   ]
  },
  {
   "cell_type": "code",
   "execution_count": null,
   "metadata": {
    "scrolled": true
   },
   "outputs": [],
   "source": [
    "# Formulate optimization problem for Ordinary Least Squares Regression\n",
    "\n",
    "function OrdinaryLeastSquares(x,y)\n",
    "#     OLS_model = Model(solver = GurobiSolver(LogFile = append_name,OutputFlag = 0))\n",
    "    OLS_model = Model(solver = GurobiSolver(OutputFlag = 0))\n",
    "    \n",
    "    # Define variables\n",
    "    n = size(x,1) # observations\n",
    "    p = size(x,2) # features\n",
    "    \n",
    "    # Define decision variables\n",
    "    @variable(OLS_model, β[1:p+1])\n",
    "\n",
    "    # Define constraints - none\n",
    "\n",
    "    # Define objective function\n",
    "    @objective(OLS_model, Min, sum((y[i] - β[1] - β[2:p+1]' * x[i,:])^2 for i = 1:n))\n",
    "#     return(OLS_model)\n",
    "    \n",
    "    # Run the optimization\n",
    "    solve(OLS_model)\n",
    "    betas = getvalue(β)\n",
    "    objective = getobjectivevalue(OLS_model)\n",
    "    return(betas)\n",
    "end"
   ]
  },
  {
   "cell_type": "markdown",
   "metadata": {},
   "source": [
    "### Least Quantile Squares"
   ]
  },
  {
   "cell_type": "code",
   "execution_count": null,
   "metadata": {},
   "outputs": [],
   "source": [
    "# Formulate optimization problem for Least Quantile Squares Regression\n",
    "# *********** q: 0, 1, 2, 3, 4\n",
    "\n",
    "function LeastQuantileSquares(x,y,quantile)\n",
    "    LQS_model = Model(solver = GurobiSolver(OutputFlag = 0,TimeLimit = 180))\n",
    "#     LQS_model = Model(solver = GurobiSolver(OutputFlag = 0))\n",
    "    \n",
    "    # Define variables\n",
    "    M = 10000\n",
    "    n = size(x,1) # observations\n",
    "    p = size(x,2) # features\n",
    "    q = ceil(n*(quantile/4))\n",
    "    \n",
    "    # Define decision variables\n",
    "    @variable(LQS_model, γ)\n",
    "    @variable(LQS_model, z[1:n], Bin)\n",
    "    @variable(LQS_model, μ[1:n])\n",
    "    @variable(LQS_model, β[1:p+1])\n",
    "    @variable(LQS_model, r[1:n])\n",
    "    @variable(LQS_model, a[1:n])            \n",
    "            \n",
    "    # Define constraints\n",
    "    @constraint(LQS_model, [i=1:n], r[i] == y[i] - β[1] - β[2:p+1]'*x[i,:])\n",
    "    @constraint(LQS_model, [i=1:n], γ >= a[i] - μ[i])\n",
    "    @constraint(LQS_model, [i=1:n], a[i] >= r[i])\n",
    "    @constraint(LQS_model, [i=1:n], a[i] >= -r[i])\n",
    "    @constraint(LQS_model, [i=1:n], μ[i] <= M*(1 - z[i]))\n",
    "    @constraint(LQS_model, sum(z[i] for i=1:n) == q)\n",
    "    @constraint(LQS_model, [i=1:n], μ[i] >= 0)\n",
    "    \n",
    "     # Define objective function\n",
    "    @objective(LQS_model, Min, γ)\n",
    "#     return(LQS_model)\n",
    "\n",
    "    # Run the optimization\n",
    "    solve(LQS_model)\n",
    "    betas = getvalue(β)\n",
    "    qth_residual = getvalue(γ)\n",
    "    return(betas,qth_residual)\n",
    "end"
   ]
  },
  {
   "cell_type": "markdown",
   "metadata": {},
   "source": [
    "### Least Trimmed Squares"
   ]
  },
  {
   "cell_type": "code",
   "execution_count": null,
   "metadata": {},
   "outputs": [],
   "source": [
    "# Formulate optimization problem for Least Trimmed Squares Regression\n",
    "# Note: k is a user specified parameter, k <= (n - p - 1)/2\n",
    "\n",
    "function LeastTrimmedSquares(k,x,y)\n",
    "    LTS_model = Model(solver = GurobiSolver(OutputFlag = 0,TimeLimit = 500))\n",
    "    \n",
    "    # Define variables\n",
    "    M = 10000\n",
    "    n = size(x,1) # observations\n",
    "    p = size(x,2) # features\n",
    "    \n",
    "    # Define decision variables\n",
    "    @variable(LTS_model, z[1:n], Bin)\n",
    "    @variable(LTS_model, β[1:p+1])\n",
    "    @variable(LTS_model, r[1:n])\n",
    "            \n",
    "    # Define constraints\n",
    "    @constraint(LTS_model, [i=1:n], β[1] + β[2:p+1]'*x[i,:] - y[i] <= r[i] + M*z[i])\n",
    "    @constraint(LTS_model, [i=1:n], -β[1] - β[2:p+1]'*x[i,:] + y[i] <= r[i] + M*z[i])\n",
    "    @constraint(LTS_model, sum(z[i] for i=1:n) <= k)\n",
    "    @constraint(LTS_model, [i=1:n], r[i] >= 0)\n",
    "        \n",
    "    # Define objective function as QMIP ******** (minimizing over β, z)\n",
    "    @objective(LTS_model, Min, sum(r[i]^2 for i=1:n))\n",
    "#     return(LTS_model)\n",
    "\n",
    "    # Run the optimization\n",
    "    solve(LTS_model)\n",
    "    betas = getvalue(β)\n",
    "    outlier_indicators = getvalue(z)\n",
    "    return(betas, outlier_indicators)\n",
    "end"
   ]
  },
  {
   "cell_type": "markdown",
   "metadata": {},
   "source": [
    "### Least Trimmed Summed Residuals - Should Improve Efficiency Over LTS"
   ]
  },
  {
   "cell_type": "code",
   "execution_count": null,
   "metadata": {},
   "outputs": [],
   "source": [
    "# Formulate optimization problem for Least Trimmed Squares Regression\n",
    "# Note: k is a user specified parameter, k <= (n - p - 1)/2\n",
    "\n",
    "function LeastTrimmedSumResiduals(k,x,y)\n",
    "    LTSR_model = Model(solver = GurobiSolver(OutputFlag = 0,TimeLimit = 500))\n",
    "    \n",
    "    # Define variables\n",
    "    M = 10000\n",
    "    n = size(x,1) # observations\n",
    "    p = size(x,2) # features\n",
    "    \n",
    "    # Define decision variables\n",
    "    @variable(LTSR_model, z[1:n], Bin)\n",
    "    @variable(LTSR_model, β[1:p+1])\n",
    "    @variable(LTSR_model, r[1:n])\n",
    "            \n",
    "    # Define constraints\n",
    "    @constraint(LTSR_model, [i=1:n], β[1] + β[2:p+1]'*x[i,:] - y[i] <= r[i] + M*z[i])\n",
    "    @constraint(LTSR_model, [i=1:n], -β[1] - β[2:p+1]'*x[i,:] + y[i] <= r[i] + M*z[i])\n",
    "    @constraint(LTSR_model, sum(z[i] for i=1:n) <= k)\n",
    "    @constraint(LTSR_model, [i=1:n], r[i] >= 0)\n",
    "        \n",
    "    # Define objective function as QMIP ******** (minimizing over β, z)\n",
    "    @objective(LTSR_model, Min, sum(r[i] for i=1:n))\n",
    "#     return(LTS_model)\n",
    "\n",
    "    # Run the optimization\n",
    "    solve(LTSR_model)\n",
    "    betas = getvalue(β)\n",
    "    outlier_indicators = getvalue(z)\n",
    "    return(betas, outlier_indicators)\n",
    "end"
   ]
  },
  {
   "cell_type": "markdown",
   "metadata": {},
   "source": [
    "### Bounded Influence Regression"
   ]
  },
  {
   "cell_type": "code",
   "execution_count": null,
   "metadata": {},
   "outputs": [],
   "source": [
    "# Formulate optimization problem for Least Trimmed Squares Regression\n",
    "# Note: k is a user specified parameter, k <= (n - p - 1)/2\n",
    "\n",
    "function BoundedInfluence(α,x,y)\n",
    "    BI_model = Model(solver = GurobiSolver(OutputFlag = 0,TimeLimit = 500))\n",
    "    \n",
    "    # Define variables\n",
    "    M = 10000\n",
    "    n = size(x,1) # observations\n",
    "    p = size(x,2) # features\n",
    "    bkdn = ceil((n-p-1)/2)\n",
    "    \n",
    "    # Define parameters\n",
    "    x_int = hcat(ones(n),x)\n",
    "    β_ols = (x_int'*x_int)^-1*x_int'*y\n",
    "    e_residuals = y-x_int*β_ols\n",
    "    σ_squared = e_residuals'*e_residuals/(n-p+1)\n",
    "    H = x*(x'*x)^-1*x'\n",
    "    h = diag(H)\n",
    "    δ = ((e_residuals).^2/(σ_squared*(1 .- h)))*(1/(p+1))*(h./(1 .- h))\n",
    "    σ_h = (e_residuals./(1 .- h).^0.5)\n",
    "    σ_h_squared = (e_residuals./(1 .- h).^0.5).^2\n",
    "#     println(δ)\n",
    "    \n",
    "    # Define decision variables\n",
    "    @variable(BI_model, z[1:n], Bin)\n",
    "    @variable(BI_model, β[1:p+1])\n",
    "    @variable(BI_model, r[1:n])\n",
    "            \n",
    "    # Define constraints\n",
    "    @constraint(BI_model, [i=1:n], β[1] + β[2:p+1]'*x[i,:] - y[i] <= r[i] + M*z[i])\n",
    "    @constraint(BI_model, [i=1:n], -β[1] - β[2:p+1]'*x[i,:] + y[i] <= r[i] + M*z[i])\n",
    "    @constraint(BI_model, sum(z[i] for i=1:n) <= bkdn)\n",
    "    @constraint(BI_model, [i=1:n], r[i] >= 0)\n",
    "        \n",
    "    # Define objective function        \n",
    "    @objective(BI_model, Min, α*sum(r[i]^2 + z[i]*δ[i]^2 for i=1:n) + (1-α)*sum(z[i] for i=1:n))\n",
    "    \n",
    "    # Run the optimization\n",
    "    solve(BI_model)\n",
    "    betas = getvalue(β)\n",
    "    outlier_indicators = getvalue(z)\n",
    "    return(h, betas, outlier_indicators)\n",
    "end"
   ]
  },
  {
   "cell_type": "markdown",
   "metadata": {},
   "source": [
    "### Start Testing on Data Sets"
   ]
  },
  {
   "cell_type": "markdown",
   "metadata": {},
   "source": [
    "### I. Simple test on Hertzsprung-Russell Star Data:  \n",
    "The following data are reported in Rousseeuw and Leroy (1987) and are based on Humphreys (1978) and Vansina and De Greve, J. P. (1982). The 47 observations correspond to the 47 stars of the CYG OB1 cluster in the direction of the constellation Cygnus. The regressor variable (column 2)  is the logarithm of the effective temperature at the surface of the star (), and the response variable (column 3)  is the logarithm of its light intensity (). This data set is remarkable in that it contains four substantial leverage points (which represent giant stars) that greatly affect the results of $L_1$ and even $L_2$ regression. The high leverage points are observations:\n",
    "**11, 20, 30, and 34.**"
   ]
  },
  {
   "cell_type": "markdown",
   "metadata": {},
   "source": [
    "http://gmt.soest.hawaii.edu/doc/5.4.5/gallery/ex47.html\n",
    "http://support.sas.com/documentation/cdl/en/imlug/64248/HTML/default/viewer.htm#imlug_robustregexpls_sect003.htm"
   ]
  },
  {
   "cell_type": "code",
   "execution_count": null,
   "metadata": {},
   "outputs": [],
   "source": [
    "star_data =  [  1  4.37  5.23   \n",
    "                2  4.56  5.74   \n",
    "                3  4.26  4.93\n",
    "                4  4.56  5.74   \n",
    "                5  4.30  5.19   \n",
    "                6  4.46  5.46\n",
    "                7  3.84  4.65   \n",
    "                8  4.57  5.27   \n",
    "                9  4.26  5.57\n",
    "                10  4.37  5.12  \n",
    "                11  3.49  5.73  \n",
    "                12  4.43  5.45\n",
    "                13  4.48  5.42  \n",
    "                14  4.01  4.05  \n",
    "                15  4.29  4.26\n",
    "                16  4.42  4.58  \n",
    "                17  4.23  3.94  \n",
    "                18  4.42  4.18\n",
    "                19  4.23  4.18  \n",
    "                20  3.49  5.89  \n",
    "                21  4.29  4.38\n",
    "                22  4.29  4.22  \n",
    "                23  4.42  4.42  \n",
    "                24  4.49  4.85\n",
    "                25  4.38  5.02\n",
    "                26  4.42  4.66 \n",
    "                27  4.29  4.66\n",
    "                28  4.38  4.90  \n",
    "                29  4.22  4.39  \n",
    "                30  3.48  6.05\n",
    "                31  4.38  4.42  \n",
    "                32  4.56  5.10\n",
    "                33  4.45  5.22\n",
    "                34  3.49  6.29  \n",
    "                35  4.23  4.34  \n",
    "                36  4.62  5.62\n",
    "                37  4.53  5.10  \n",
    "                38  4.45  5.22  \n",
    "                39  4.53  5.18\n",
    "                40  4.43  5.57  \n",
    "                41  4.38  4.62  \n",
    "                42  4.45  5.06\n",
    "                43  4.50  5.34  \n",
    "                44  4.45  5.34  \n",
    "                45  4.55  5.54\n",
    "                46  4.45  4.98  \n",
    "                47  4.42  4.50 ]; "
   ]
  },
  {
   "cell_type": "code",
   "execution_count": null,
   "metadata": {},
   "outputs": [],
   "source": [
    "x_star_data = star_data[:,2]\n",
    "y_star_data = star_data[:,3];"
   ]
  },
  {
   "cell_type": "code",
   "execution_count": null,
   "metadata": {
    "scrolled": true
   },
   "outputs": [],
   "source": [
    "star_betas_OLS = OrdinaryLeastSquares(x_star_data,y_star_data)"
   ]
  },
  {
   "cell_type": "code",
   "execution_count": null,
   "metadata": {},
   "outputs": [],
   "source": [
    "star_betas_LQS, star_qth_resid_LQS = LeastQuantileSquares(x_star_data,y_star_data,2)"
   ]
  },
  {
   "cell_type": "code",
   "execution_count": null,
   "metadata": {},
   "outputs": [],
   "source": [
    "star_betas_LTS, star_outlier_indicators_LTS = LeastTrimmedSquares(4,x_star_data,y_star_data)"
   ]
  },
  {
   "cell_type": "code",
   "execution_count": null,
   "metadata": {},
   "outputs": [],
   "source": [
    "findall(x->x==1, star_outlier_indicators_LTS)"
   ]
  },
  {
   "cell_type": "code",
   "execution_count": null,
   "metadata": {},
   "outputs": [],
   "source": [
    "star_betas_LTSR, star_outlier_indicators_LTSR = LeastTrimmedSumResiduals(4,x_star_data,y_star_data)"
   ]
  },
  {
   "cell_type": "code",
   "execution_count": null,
   "metadata": {},
   "outputs": [],
   "source": [
    "findall(x->x==1, star_outlier_indicators_LTSR)"
   ]
  },
  {
   "cell_type": "code",
   "execution_count": null,
   "metadata": {},
   "outputs": [],
   "source": [
    "h_star, star_betas_BI, star_outlier_indicators_BI = BoundedInfluence(0.4,x_star_data,y_star_data)"
   ]
  },
  {
   "cell_type": "code",
   "execution_count": null,
   "metadata": {},
   "outputs": [],
   "source": [
    "findall(x->x==1, star_outlier_indicators_BI)"
   ]
  },
  {
   "cell_type": "code",
   "execution_count": null,
   "metadata": {},
   "outputs": [],
   "source": [
    "# Plot all the fits\n",
    "# gr()\n",
    "star_data_plot = scatter(x_star_data,y_star_data,series_annotations = text.(1:47, :bottom),\n",
    "#     title=\"Fitted Regressions on Hertzsprung-Russell Star Data\",\n",
    "    label=\"\",\n",
    "    legend=:outerbottom,\n",
    "    markersize = 2,\n",
    "    markercolor = :black,\n",
    "    dpi=300,\n",
    "    fontfamily=\"Times\",\n",
    "    size = (600, 500))\n",
    "\n",
    "f_ols(x_ols) = star_betas_OLS[1] + x_ols.*star_betas_OLS[2]\n",
    "plot!(f_ols, 3.5, 5,label=\"Ordinary Least Squares\")\n",
    "\n",
    "f_lqs(x_lqs) = star_betas_LQS[1] + x_lqs.*star_betas_LQS[2]\n",
    "plot!(f_lqs, 3.5, 5,label=\"Least Median Squares\")\n",
    "\n",
    "f_lts(x_lts) = star_betas_LTS[1] + x_lts.*star_betas_LTS[2]\n",
    "plot!(f_lts, 3.5, 5,label=\"Least Trimmed Squares\")\n",
    "\n",
    "f_ltsr(x_ltsr) = star_betas_LTSR[1] + x_ltsr.*star_betas_LTSR[2]\n",
    "plot!(f_ltsr, 3.5, 5,label=\"Least Trimmed Summed Residuals\")\n",
    "\n",
    "f_bi(x_bi) = star_betas_BI[1] + x_bi.*star_betas_BI[2]\n",
    "plot!(f_bi, 3.5, 5,label=\"Bounded Influence Least Squares\")\n",
    "\n",
    "savefig(\"star_data_plot2\")"
   ]
  },
  {
   "cell_type": "code",
   "execution_count": null,
   "metadata": {},
   "outputs": [],
   "source": [
    "star_data_plot2"
   ]
  },
  {
   "cell_type": "markdown",
   "metadata": {},
   "source": [
    "### II. Simple test on stackloss data of Brownlee:  \n",
    "The three explanatory variables correspond to measurements for a plant oxidizing ammonia to nitric acid on 21 consecutive days:\n",
    "+ air flow to the plant\n",
    "+ cooling water inlet temperature\n",
    "+ acid concentration  \n",
    "\n",
    "The response variable  gives the permillage of ammonia lost (stackloss). Rousseeuw and Leroy (1987) cite a large number of papers in which the preceding data set was analyzed. They state that most researchers \"concluded that observations **1, 3, 4, and 21** were outliers\" and that some people also reported observation 2 as an outlier.\n"
   ]
  },
  {
   "cell_type": "code",
   "execution_count": null,
   "metadata": {},
   "outputs": [],
   "source": [
    "stack_loss = [ 1  80  27  89  42\n",
    "               1  80  27  88  37\n",
    "               1  75  25  90  37\n",
    "               1  62  24  87  28\n",
    "               1  62  22  87  18\n",
    "               1  62  23  87  18\n",
    "               1  62  24  93  19\n",
    "               1  62  24  93  20\n",
    "               1  58  23  87  15\n",
    "               1  58  18  80  14\n",
    "               1  58  18  89  14\n",
    "               1  58  17  88  13\n",
    "               1  58  18  82  11\n",
    "               1  58  19  93  12\n",
    "               1  50  18  89   8\n",
    "               1  50  18  86   7\n",
    "               1  50  19  72   8\n",
    "               1  50  19  79   8\n",
    "               1  50  20  80   9\n",
    "               1  56  20  82  15\n",
    "               1  70  20  91  15 ];"
   ]
  },
  {
   "cell_type": "code",
   "execution_count": null,
   "metadata": {},
   "outputs": [],
   "source": [
    "x_stack_loss = stack_loss[:,2:4];"
   ]
  },
  {
   "cell_type": "code",
   "execution_count": null,
   "metadata": {},
   "outputs": [],
   "source": [
    "y_stack_loss = stack_loss[:,5];"
   ]
  },
  {
   "cell_type": "code",
   "execution_count": null,
   "metadata": {
    "scrolled": true
   },
   "outputs": [],
   "source": [
    "stack_loss_betas_OLS = OrdinaryLeastSquares(x_stack_loss,y_stack_loss)"
   ]
  },
  {
   "cell_type": "code",
   "execution_count": null,
   "metadata": {},
   "outputs": [],
   "source": [
    "stack_loss_betas_LQS, stack_loss_qth_resid_LQS = LeastQuantileSquares(x_stack_loss,y_stack_loss,2)"
   ]
  },
  {
   "cell_type": "code",
   "execution_count": null,
   "metadata": {},
   "outputs": [],
   "source": [
    "stack_loss_betas_LTS, stack_loss_outlier_indicators_LTS = LeastTrimmedSquares(4,x_stack_loss,y_stack_loss)"
   ]
  },
  {
   "cell_type": "code",
   "execution_count": null,
   "metadata": {},
   "outputs": [],
   "source": [
    "index = findall(x->x==1, stack_loss_outlier_indicators_LTS)"
   ]
  },
  {
   "cell_type": "code",
   "execution_count": null,
   "metadata": {},
   "outputs": [],
   "source": [
    "stack_loss_betas_LTSR, stack_loss_outlier_indicators_LTSR = LeastTrimmedSumResiduals(4,x_stack_loss,y_stack_loss)"
   ]
  },
  {
   "cell_type": "code",
   "execution_count": null,
   "metadata": {},
   "outputs": [],
   "source": [
    "findall(x->x==1, stack_loss_outlier_indicators_LTSR)"
   ]
  },
  {
   "cell_type": "code",
   "execution_count": null,
   "metadata": {},
   "outputs": [],
   "source": [
    "h_stack_loss, stack_loss_betas_BI, stack_loss_outlier_indicators_BI = BoundedInfluence(0.1,x_stack_loss,y_stack_loss)"
   ]
  },
  {
   "cell_type": "code",
   "execution_count": null,
   "metadata": {},
   "outputs": [],
   "source": [
    "findall(x->x==1, stack_loss_outlier_indicators_BI)"
   ]
  },
  {
   "cell_type": "code",
   "execution_count": null,
   "metadata": {},
   "outputs": [],
   "source": [
    "h_stack_loss"
   ]
  },
  {
   "cell_type": "markdown",
   "metadata": {},
   "source": [
    "### Create Normalization Function for Synthetic Data Sets"
   ]
  },
  {
   "cell_type": "code",
   "execution_count": null,
   "metadata": {},
   "outputs": [],
   "source": [
    "function standardize(df)\n",
    "    n, p = size(df)\n",
    "    for j in 1:p\n",
    "        mean1 = mean(df[:,j])\n",
    "        std1 = std(df[:,j])\n",
    "        for i in 1:n\n",
    "            df[i,j] = (df[i,j] - mean1)/std1\n",
    "        end\n",
    "    end\n",
    "    return df\n",
    "end"
   ]
  },
  {
   "cell_type": "markdown",
   "metadata": {},
   "source": [
    "### III. Synthetic Data Set 1\n",
    "#### 0% outlier contamination, n = 25, p = 4"
   ]
  },
  {
   "cell_type": "code",
   "execution_count": null,
   "metadata": {},
   "outputs": [],
   "source": [
    "df1 = CSV.read(\"sds0.csv\", header=false);"
   ]
  },
  {
   "cell_type": "code",
   "execution_count": null,
   "metadata": {},
   "outputs": [],
   "source": [
    "y1 = df1[:,1]\n",
    "X1 = convert(Matrix, df1[:,2:end]);"
   ]
  },
  {
   "cell_type": "code",
   "execution_count": null,
   "metadata": {},
   "outputs": [],
   "source": [
    "size(X1)"
   ]
  },
  {
   "cell_type": "code",
   "execution_count": null,
   "metadata": {},
   "outputs": [],
   "source": [
    "t_OLS_df1 = @suppress @benchmark df1_betas_OLS = OrdinaryLeastSquares(X1,y1)"
   ]
  },
  {
   "cell_type": "code",
   "execution_count": null,
   "metadata": {},
   "outputs": [],
   "source": [
    "time(median(t_OLS_df1))/1000000000"
   ]
  },
  {
   "cell_type": "code",
   "execution_count": null,
   "metadata": {},
   "outputs": [],
   "source": [
    "t_LQS_df1 = @suppress @benchmark LeastQuantileSquares(X1,y1,2) "
   ]
  },
  {
   "cell_type": "code",
   "execution_count": null,
   "metadata": {},
   "outputs": [],
   "source": [
    "time(median(t_LQS_df1))/1000000000"
   ]
  },
  {
   "cell_type": "code",
   "execution_count": null,
   "metadata": {},
   "outputs": [],
   "source": [
    "t_LTS_df1 = @suppress @benchmark df1_LTS_betas, df1_LTS_outlier_indicators = LeastTrimmedSquares(0,X1,y1)"
   ]
  },
  {
   "cell_type": "code",
   "execution_count": null,
   "metadata": {},
   "outputs": [],
   "source": [
    "time(median(t_LTS_df1))/1000000000"
   ]
  },
  {
   "cell_type": "code",
   "execution_count": null,
   "metadata": {},
   "outputs": [],
   "source": [
    "t_LTSR_df1 = @suppress @benchmark df1_LTSR_betas, df1_LTSR_outlier_indicators = LeastTrimmedSumResiduals(0,X1,y1)"
   ]
  },
  {
   "cell_type": "code",
   "execution_count": null,
   "metadata": {},
   "outputs": [],
   "source": [
    "time(median(t_LTSR_df1))/1000000000"
   ]
  },
  {
   "cell_type": "markdown",
   "metadata": {},
   "source": [
    "#### Results"
   ]
  },
  {
   "cell_type": "code",
   "execution_count": null,
   "metadata": {},
   "outputs": [],
   "source": [
    "df1_betas_OLS = OrdinaryLeastSquares(X1,y1)"
   ]
  },
  {
   "cell_type": "code",
   "execution_count": null,
   "metadata": {},
   "outputs": [],
   "source": [
    "df1_LQS_betas, df1_LQS_qth_resid = LeastQuantileSquares(X1,y1,2)"
   ]
  },
  {
   "cell_type": "code",
   "execution_count": null,
   "metadata": {},
   "outputs": [],
   "source": [
    "df1_LTS_betas, df1_LTS_outlier_indicators = LeastTrimmedSquares(0,X1,y1)"
   ]
  },
  {
   "cell_type": "code",
   "execution_count": null,
   "metadata": {},
   "outputs": [],
   "source": [
    "df1_LTSR_betas, df1_LTSR_outlier_indicators = LeastTrimmedSumResiduals(0,X1,y1)"
   ]
  },
  {
   "cell_type": "code",
   "execution_count": null,
   "metadata": {},
   "outputs": [],
   "source": [
    "df1_BI_betas, df1_BI_outlier_indicators = BoundedInfluence(0.00001,X1,y1)"
   ]
  },
  {
   "cell_type": "markdown",
   "metadata": {},
   "source": [
    "### IV. Synthetic Data Set 2\n",
    "#### 12% outlier contamination, n = 40, p = 5"
   ]
  },
  {
   "cell_type": "markdown",
   "metadata": {},
   "source": [
    "Outlier 1 in X2, row 34  \n",
    "Outlier 2 in X3, row 9  \n",
    "Outlier 3 in X3, row 20  \n",
    "Outlier 4 in X4, row 1  \n",
    "Outlier 5 in X4, row 23  "
   ]
  },
  {
   "cell_type": "code",
   "execution_count": null,
   "metadata": {},
   "outputs": [],
   "source": [
    "df2 = CSV.read(\"sds1.csv\", header=false);"
   ]
  },
  {
   "cell_type": "code",
   "execution_count": null,
   "metadata": {},
   "outputs": [],
   "source": [
    "y2 = df2[:,1]\n",
    "X2 = convert(Matrix, df2[:,2:end]);"
   ]
  },
  {
   "cell_type": "code",
   "execution_count": null,
   "metadata": {},
   "outputs": [],
   "source": [
    "size(X2)"
   ]
  },
  {
   "cell_type": "code",
   "execution_count": null,
   "metadata": {},
   "outputs": [],
   "source": [
    "sum(X2)"
   ]
  },
  {
   "cell_type": "code",
   "execution_count": null,
   "metadata": {},
   "outputs": [],
   "source": [
    "mean(X2)"
   ]
  },
  {
   "cell_type": "code",
   "execution_count": null,
   "metadata": {},
   "outputs": [],
   "source": [
    "t_OLS_df2 = @suppress @benchmark df2_betas_OLS = OrdinaryLeastSquares(X2,y2)"
   ]
  },
  {
   "cell_type": "code",
   "execution_count": null,
   "metadata": {},
   "outputs": [],
   "source": [
    "time(median(t_OLS_df2))/1000000000"
   ]
  },
  {
   "cell_type": "code",
   "execution_count": null,
   "metadata": {},
   "outputs": [],
   "source": [
    "t_LQS_df2 = @suppress @benchmark df2_LQS_betas, df2_LQS_qth_resid = LeastQuantileSquares(X2,y2,2)"
   ]
  },
  {
   "cell_type": "code",
   "execution_count": null,
   "metadata": {},
   "outputs": [],
   "source": [
    "time(median(t_LQS_df2))/1000000000"
   ]
  },
  {
   "cell_type": "code",
   "execution_count": null,
   "metadata": {},
   "outputs": [],
   "source": [
    "t_LTS_df2 = @suppress @benchmark df2_LTS_betas, df2_LTS_outlier_indicators = LeastTrimmedSquares(5,X2,y2)"
   ]
  },
  {
   "cell_type": "code",
   "execution_count": null,
   "metadata": {},
   "outputs": [],
   "source": [
    "time(median(t_LTS_df2))/1000000000"
   ]
  },
  {
   "cell_type": "code",
   "execution_count": null,
   "metadata": {},
   "outputs": [],
   "source": [
    "t_LTSR_df2 = @suppress @benchmark df2_LTSR_betas, df2_LTSR_outlier_indicators = LeastTrimmedSumResiduals(5,X2,y2)"
   ]
  },
  {
   "cell_type": "code",
   "execution_count": null,
   "metadata": {},
   "outputs": [],
   "source": [
    "time(median(t_LTSR_df2))/1000000000"
   ]
  },
  {
   "cell_type": "code",
   "execution_count": null,
   "metadata": {},
   "outputs": [],
   "source": [
    "t_BI_df2 = @suppress @benchmark df2_BI_betas, df2_BI_outlier_indicators = BoundedInfluence(0.4,X2,y2)"
   ]
  },
  {
   "cell_type": "code",
   "execution_count": null,
   "metadata": {},
   "outputs": [],
   "source": [
    "time(median(t_BI_df2))/1000000000"
   ]
  },
  {
   "cell_type": "markdown",
   "metadata": {},
   "source": [
    "#### Results"
   ]
  },
  {
   "cell_type": "code",
   "execution_count": null,
   "metadata": {},
   "outputs": [],
   "source": [
    "df2_betas_OLS = OrdinaryLeastSquares(X2,y2)"
   ]
  },
  {
   "cell_type": "code",
   "execution_count": null,
   "metadata": {},
   "outputs": [],
   "source": [
    "df2_LQS_betas, df2_LQS_qth_resid = LeastQuantileSquares(X2,y2,2)"
   ]
  },
  {
   "cell_type": "code",
   "execution_count": null,
   "metadata": {},
   "outputs": [],
   "source": [
    "df2_LTS_betas, df2_LTS_outlier_indicators = LeastTrimmedSquares(5,X2,y2)"
   ]
  },
  {
   "cell_type": "code",
   "execution_count": null,
   "metadata": {},
   "outputs": [],
   "source": [
    "findall(x->x==1, df2_LTS_outlier_indicators)"
   ]
  },
  {
   "cell_type": "code",
   "execution_count": null,
   "metadata": {},
   "outputs": [],
   "source": [
    "df2_LTSR_betas, df2_LTSR_outlier_indicators = LeastTrimmedSumResiduals(5,X2,y2)"
   ]
  },
  {
   "cell_type": "code",
   "execution_count": null,
   "metadata": {},
   "outputs": [],
   "source": [
    "findall(x->x==1, df2_LTSR_outlier_indicators)"
   ]
  },
  {
   "cell_type": "code",
   "execution_count": null,
   "metadata": {},
   "outputs": [],
   "source": [
    "df2_BI_betas, df2_BI_outlier_indicators = BoundedInfluence(0.4,X2,y2)"
   ]
  },
  {
   "cell_type": "code",
   "execution_count": null,
   "metadata": {},
   "outputs": [],
   "source": [
    "findall(x->x==1, df2_BI_outlier_indicators)"
   ]
  },
  {
   "cell_type": "markdown",
   "metadata": {},
   "source": [
    "### V. Synthetic Data Set 3\n",
    "24% outlier contamination, n = 40, p = 5"
   ]
  },
  {
   "cell_type": "markdown",
   "metadata": {},
   "source": [
    "Outlier 1 in X2, row 34  \n",
    "Outlier 2 in X3, row 9  \n",
    "Outlier 3 in X3, row 16  \n",
    "Outlier 4 in X3, row 20  \n",
    "Outlier 5 in X3, row 27  \n",
    "Outlier 6 in X4, row 1  \n",
    "Outlier 7 in X4, row 23  \n",
    "Outlier 8 in X5, row 20  \n",
    "Outlier 9 in Y, row 15  \n",
    "Outlier 10 in Y, row 37  "
   ]
  },
  {
   "cell_type": "code",
   "execution_count": null,
   "metadata": {},
   "outputs": [],
   "source": [
    "df3 = CSV.read(\"sds2.csv\", header=false);"
   ]
  },
  {
   "cell_type": "code",
   "execution_count": null,
   "metadata": {},
   "outputs": [],
   "source": [
    "y3 = df3[:,1]\n",
    "X3 = convert(Matrix, df3[:,2:end]);"
   ]
  },
  {
   "cell_type": "code",
   "execution_count": null,
   "metadata": {},
   "outputs": [],
   "source": [
    "t_OLS_df3 = @suppress @benchmark df3_betas_OLS = OrdinaryLeastSquares(X3,y3)"
   ]
  },
  {
   "cell_type": "code",
   "execution_count": null,
   "metadata": {},
   "outputs": [],
   "source": [
    "time(median(t_OLS_df3))/1000000000"
   ]
  },
  {
   "cell_type": "code",
   "execution_count": null,
   "metadata": {},
   "outputs": [],
   "source": [
    "t_LQS_df3 = @suppress @benchmark df3_LQS_betas, df3_LQS_qth_resid = LeastQuantileSquares(X3,y3,2)"
   ]
  },
  {
   "cell_type": "code",
   "execution_count": null,
   "metadata": {},
   "outputs": [],
   "source": [
    "time(median(t_LQS_df3))/1000000000"
   ]
  },
  {
   "cell_type": "code",
   "execution_count": null,
   "metadata": {},
   "outputs": [],
   "source": [
    "t_LTS_df3 = @suppress @benchmark df3_LTS_betas, df3_LTS_outlier_indicators = LeastTrimmedSquares(9,X3,y3)"
   ]
  },
  {
   "cell_type": "code",
   "execution_count": null,
   "metadata": {},
   "outputs": [],
   "source": [
    "time(median(t_LTS_df3))/1000000000"
   ]
  },
  {
   "cell_type": "code",
   "execution_count": null,
   "metadata": {},
   "outputs": [],
   "source": [
    "t_LTSR_df3 = @suppress @benchmark df3_LTSR_betas, df3_LTSR_outlier_indicators = LeastTrimmedSumResiduals(9,X3,y3)"
   ]
  },
  {
   "cell_type": "code",
   "execution_count": null,
   "metadata": {},
   "outputs": [],
   "source": [
    "time(median(t_LTSR_df3))/1000000000"
   ]
  },
  {
   "cell_type": "code",
   "execution_count": null,
   "metadata": {},
   "outputs": [],
   "source": [
    "t_BI_df3 = @suppress @benchmark df3_BI_betas, df3_BI_outlier_indicators = BoundedInfluence(0.82,X3,y3)"
   ]
  },
  {
   "cell_type": "code",
   "execution_count": null,
   "metadata": {},
   "outputs": [],
   "source": [
    "time(median(t_BI_df3))/1000000000"
   ]
  },
  {
   "cell_type": "markdown",
   "metadata": {},
   "source": [
    "#### Results"
   ]
  },
  {
   "cell_type": "code",
   "execution_count": null,
   "metadata": {},
   "outputs": [],
   "source": [
    "df3_betas_OLS = OrdinaryLeastSquares(X3,y3)"
   ]
  },
  {
   "cell_type": "code",
   "execution_count": null,
   "metadata": {},
   "outputs": [],
   "source": [
    "df3_LQS_betas, df3_LQS_qth_resid = LeastQuantileSquares(X3,y3,2)"
   ]
  },
  {
   "cell_type": "code",
   "execution_count": null,
   "metadata": {},
   "outputs": [],
   "source": [
    "df3_LTS_betas, df3_LTS_outlier_indicators = LeastTrimmedSquares(9,X3,y3)"
   ]
  },
  {
   "cell_type": "code",
   "execution_count": null,
   "metadata": {},
   "outputs": [],
   "source": [
    "findall(x->x==1, df3_LTS_outlier_indicators)"
   ]
  },
  {
   "cell_type": "code",
   "execution_count": null,
   "metadata": {},
   "outputs": [],
   "source": [
    "df3_LTSR_betas, df3_LTSR_outlier_indicators = LeastTrimmedSumResiduals(9,X3,y3)"
   ]
  },
  {
   "cell_type": "code",
   "execution_count": null,
   "metadata": {},
   "outputs": [],
   "source": [
    "findall(x->x==1, df3_LTSR_outlier_indicators)"
   ]
  },
  {
   "cell_type": "code",
   "execution_count": null,
   "metadata": {},
   "outputs": [],
   "source": [
    "df3_BI_betas, df3_BI_outlier_indicators = BoundedInfluence(0.82,X3,y3)"
   ]
  },
  {
   "cell_type": "code",
   "execution_count": null,
   "metadata": {},
   "outputs": [],
   "source": [
    "findall(x->x==1, df3_BI_outlier_indicators)"
   ]
  },
  {
   "cell_type": "markdown",
   "metadata": {},
   "source": [
    "### VI. Synthetic Data Set 4\n",
    "36% outlier contamination, n = 80, p = 6"
   ]
  },
  {
   "cell_type": "markdown",
   "metadata": {},
   "source": [
    "Outlier 1 in X1, row 21  \n",
    "Outlier 2 in X1, row 44  \n",
    "Outlier 3 in X1, row 49  \n",
    "Outlier 4 in X1, row 66  \n",
    "Outlier 5 in X2, row 20  \n",
    "Outlier 6 in X2, row 22  \n",
    "Outlier 7 in X2, row 41  \n",
    "Outlier 8 in X3, row 55  \n",
    "Outlier 9 in X4, row 21  \n",
    "Outlier 10 in X4, row 40  \n",
    "Outlier 11 in X4, row 61  \n",
    "Outlier 12 in X4, row 74  \n",
    "Outlier 13 in X5, row 1  \n",
    "Outlier 14 in X5, row 7  \n",
    "Outlier 15 in X5, row 12  \n",
    "Outlier 16 in X5, row 30  \n",
    "Outlier 17 in X5, row 75  \n",
    "Outlier 18 in X6, row 7  \n",
    "Outlier 19 in X6, row 17  \n",
    "Outlier 20 in X6, row 30  \n",
    "Outlier 21 in X6, row 61  \n",
    "Outlier 22 in X6, row 62  \n",
    "Outlier 23 in X6, row 75  \n",
    "Outlier 24 in X6, row 76  \n",
    "Outlier 25 in Y, row 8  \n",
    "Outlier 26 in Y, row 15  \n",
    "Outlier 27 in Y, row 37  \n",
    "Outlier 28 in Y, row 45  \n",
    "Outlier 29 in Y, row 46  "
   ]
  },
  {
   "cell_type": "code",
   "execution_count": null,
   "metadata": {},
   "outputs": [],
   "source": [
    "df4 = CSV.read(\"sds3.csv\", header=false);"
   ]
  },
  {
   "cell_type": "code",
   "execution_count": null,
   "metadata": {},
   "outputs": [],
   "source": [
    "y4 = df4[:,1]\n",
    "X4 = convert(Matrix, df4[:,2:end]);"
   ]
  },
  {
   "cell_type": "code",
   "execution_count": null,
   "metadata": {},
   "outputs": [],
   "source": [
    "size(X4)"
   ]
  },
  {
   "cell_type": "code",
   "execution_count": null,
   "metadata": {},
   "outputs": [],
   "source": [
    "t_OLS_df4 = @suppress @benchmark df4_betas_OLS = OrdinaryLeastSquares(X4,y4)"
   ]
  },
  {
   "cell_type": "code",
   "execution_count": null,
   "metadata": {},
   "outputs": [],
   "source": [
    "time(median(t_OLS_df4))/1000000000"
   ]
  },
  {
   "cell_type": "code",
   "execution_count": null,
   "metadata": {},
   "outputs": [],
   "source": [
    "t_LQS_df4 = @suppress @benchmark df4_LQS_betas, df4_LQS_qth_resid = LeastQuantileSquares(X4,y4,2)"
   ]
  },
  {
   "cell_type": "code",
   "execution_count": null,
   "metadata": {},
   "outputs": [],
   "source": [
    "time(median(t_LQS_df4))/1000000000"
   ]
  },
  {
   "cell_type": "code",
   "execution_count": null,
   "metadata": {},
   "outputs": [],
   "source": [
    "t_LTS_df4 = @suppress @benchmark df4_LTS_betas, df4_LTS_outlier_indicators = LeastTrimmedSquares(24,X4,y4)"
   ]
  },
  {
   "cell_type": "code",
   "execution_count": null,
   "metadata": {},
   "outputs": [],
   "source": [
    "time(median(t_LTS_df4))/1000000000"
   ]
  },
  {
   "cell_type": "code",
   "execution_count": null,
   "metadata": {},
   "outputs": [],
   "source": [
    "t_LTSR_df4 = @suppress @benchmark df4_LTSR_betas, df4_LTSR_outlier_indicators = LeastTrimmedSumResiduals(24,X4,y4)"
   ]
  },
  {
   "cell_type": "code",
   "execution_count": null,
   "metadata": {},
   "outputs": [],
   "source": [
    "time(median(t_LTSR_df4))/1000000000"
   ]
  },
  {
   "cell_type": "code",
   "execution_count": null,
   "metadata": {},
   "outputs": [],
   "source": [
    "t_BI_df4 = @suppress @benchmark df4_BI_betas, df4_BI_outlier_indicators = BoundedInfluence(0.85,X4,y4)"
   ]
  },
  {
   "cell_type": "code",
   "execution_count": null,
   "metadata": {},
   "outputs": [],
   "source": [
    "time(median(t_BI_df4))/1000000000"
   ]
  },
  {
   "cell_type": "markdown",
   "metadata": {},
   "source": [
    "#### Results"
   ]
  },
  {
   "cell_type": "code",
   "execution_count": null,
   "metadata": {},
   "outputs": [],
   "source": [
    "df4_betas_OLS = OrdinaryLeastSquares(X4,y4)"
   ]
  },
  {
   "cell_type": "code",
   "execution_count": null,
   "metadata": {},
   "outputs": [],
   "source": [
    "df4_LQS_betas, df4_LQS_qth_resid = LeastQuantileSquares(X4,y4,2)"
   ]
  },
  {
   "cell_type": "code",
   "execution_count": null,
   "metadata": {},
   "outputs": [],
   "source": [
    "df4_LTS_betas, df4_LTS_outlier_indicators = LeastTrimmedSquares(24,X4,y4)"
   ]
  },
  {
   "cell_type": "code",
   "execution_count": null,
   "metadata": {},
   "outputs": [],
   "source": [
    "findall(x->x==1, df4_LTS_outlier_indicators)"
   ]
  },
  {
   "cell_type": "code",
   "execution_count": null,
   "metadata": {},
   "outputs": [],
   "source": [
    "df4_LTSR_betas, df4_LTSR_outlier_indicators = LeastTrimmedSumResiduals(24,X4,y4)"
   ]
  },
  {
   "cell_type": "code",
   "execution_count": null,
   "metadata": {},
   "outputs": [],
   "source": [
    "findall(x->x==1, df4_LTSR_outlier_indicators)"
   ]
  },
  {
   "cell_type": "code",
   "execution_count": null,
   "metadata": {},
   "outputs": [],
   "source": [
    "df4_BI_betas, df4_BI_outlier_indicators = BoundedInfluence(0.89,X4,y4)"
   ]
  },
  {
   "cell_type": "code",
   "execution_count": null,
   "metadata": {},
   "outputs": [],
   "source": [
    "findall(x->x==1, df4_BI_outlier_indicators)"
   ]
  },
  {
   "cell_type": "markdown",
   "metadata": {},
   "source": [
    "### VII. Synthetic Data Set 5\n",
    "24% outlier contamination, n = 10,000, p = 100"
   ]
  },
  {
   "cell_type": "code",
   "execution_count": null,
   "metadata": {},
   "outputs": [],
   "source": [
    "# df5 = CSV.read(\"./SyntheticData_&_Scripts/df5.csv\", header=false)\n",
    "# y5 = df5[:,1]\n",
    "# X5 = convert(Matrix, df5[:,2:end]);"
   ]
  },
  {
   "cell_type": "code",
   "execution_count": null,
   "metadata": {},
   "outputs": [],
   "source": [
    "# size(X5)"
   ]
  },
  {
   "cell_type": "code",
   "execution_count": null,
   "metadata": {},
   "outputs": [],
   "source": [
    "# t_OLS_df5 = @suppress @benchmark df5_betas_OLS = OrdinaryLeastSquares(X5,y5)"
   ]
  },
  {
   "cell_type": "code",
   "execution_count": null,
   "metadata": {},
   "outputs": [],
   "source": [
    "# time(median(t_OLS_df5))/1000000000"
   ]
  },
  {
   "cell_type": "code",
   "execution_count": null,
   "metadata": {},
   "outputs": [],
   "source": [
    "# t_LQS_df5 = @suppress @benchmark df5_LQS_betas, df5_LQS_qth_resid = LeastQuantileSquares(X5,y5,2)"
   ]
  },
  {
   "cell_type": "code",
   "execution_count": null,
   "metadata": {},
   "outputs": [],
   "source": [
    "# time(median(t_LQS_df2))/1000000000"
   ]
  },
  {
   "cell_type": "code",
   "execution_count": null,
   "metadata": {},
   "outputs": [],
   "source": [
    "# t_LTS_df5 = @suppress @benchmark df5_LTS_betas, df5_LTS_outlier_indicators = LeastTrimmedSquares(4,X5,y5)"
   ]
  },
  {
   "cell_type": "code",
   "execution_count": null,
   "metadata": {},
   "outputs": [],
   "source": [
    "# time(median(t_LTS_df2))/1000000000"
   ]
  },
  {
   "cell_type": "code",
   "execution_count": null,
   "metadata": {},
   "outputs": [],
   "source": [
    "# t_ALTS_df5 = @suppress @benchmark df5_LTSR_betas, df5_LTSR_outlier_indicators = LeastTrimmedSumResiduals(4,X5,y5)"
   ]
  },
  {
   "cell_type": "code",
   "execution_count": null,
   "metadata": {},
   "outputs": [],
   "source": [
    "# time(median(t_LTSR_df2))/1000000000"
   ]
  },
  {
   "cell_type": "code",
   "execution_count": null,
   "metadata": {},
   "outputs": [],
   "source": [
    "# t_BI_df5 = @suppress @benchmark df5_BI_betas, df5_BI_outlier_indicators = BoundedInfluence(0.1,X5,y5)"
   ]
  },
  {
   "cell_type": "code",
   "execution_count": null,
   "metadata": {},
   "outputs": [],
   "source": [
    "# time(median(t_BI_df2))/1000000000"
   ]
  },
  {
   "cell_type": "markdown",
   "metadata": {},
   "source": [
    "#### Results"
   ]
  },
  {
   "cell_type": "code",
   "execution_count": null,
   "metadata": {},
   "outputs": [],
   "source": [
    "# df5_betas_OLS = OrdinaryLeastSquares(X5,y5)"
   ]
  },
  {
   "cell_type": "code",
   "execution_count": null,
   "metadata": {},
   "outputs": [],
   "source": [
    "# df5_LQS_betas, df5_LQS_qth_resid = LeastQuantileSquares(X5,y5,2)"
   ]
  },
  {
   "cell_type": "code",
   "execution_count": null,
   "metadata": {},
   "outputs": [],
   "source": [
    "# df5_LTS_betas, df5_LTS_outlier_indicators = LeastTrimmedSquares(5,X5,y5)"
   ]
  },
  {
   "cell_type": "code",
   "execution_count": null,
   "metadata": {},
   "outputs": [],
   "source": [
    "# findall(x->x==1, df5_LTS_outlier_indicators)"
   ]
  },
  {
   "cell_type": "code",
   "execution_count": null,
   "metadata": {},
   "outputs": [],
   "source": [
    "# df5_LTSR_betas, df5_LTSR_outlier_indicators = LeastTrimmedSumResiduals(5,X5,y5)"
   ]
  },
  {
   "cell_type": "code",
   "execution_count": null,
   "metadata": {},
   "outputs": [],
   "source": [
    "# findall(x->x==1, df5_LTSR_outlier_indicators)"
   ]
  },
  {
   "cell_type": "code",
   "execution_count": null,
   "metadata": {},
   "outputs": [],
   "source": [
    "# df5_BI_betas, df5_BI_outlier_indicators = BoundedInfluence(0.1,X5,y5)"
   ]
  },
  {
   "cell_type": "code",
   "execution_count": null,
   "metadata": {},
   "outputs": [],
   "source": [
    "# findall(x->x==1, df5_BI_outlier_indicators)"
   ]
  },
  {
   "cell_type": "markdown",
   "metadata": {},
   "source": [
    "## QSAR Aquatic Toxicity Test"
   ]
  },
  {
   "cell_type": "code",
   "execution_count": null,
   "metadata": {},
   "outputs": [],
   "source": [
    "function standardize(df)\n",
    "    n, p = size(df)\n",
    "    for j in 1:p\n",
    "        mean1 = mean(df[:,j])\n",
    "        std1 = std(df[:,j])\n",
    "        for i in 1:n\n",
    "            df[i,j] = (df[i,j] - mean1)/std1\n",
    "        end\n",
    "    end\n",
    "    return df\n",
    "end"
   ]
  },
  {
   "cell_type": "code",
   "execution_count": null,
   "metadata": {},
   "outputs": [],
   "source": [
    "aq = CSV.read(\"Results/qsar_aquatic_toxicity.csv\", header=false)\n",
    "#Convert to matrices\n",
    "Random.seed!(95)\n",
    "aq = convert(Matrix, aq)\n",
    "aq = aq[shuffle(1:end), :]\n",
    "\n",
    "size(aq)"
   ]
  },
  {
   "cell_type": "code",
   "execution_count": null,
   "metadata": {},
   "outputs": [],
   "source": [
    "aq = standardize(aq);"
   ]
  },
  {
   "cell_type": "code",
   "execution_count": null,
   "metadata": {},
   "outputs": [],
   "source": [
    "# Split into 50%, 25%, and 25%\n",
    "train_x = aq[1:40, 4:8]\n",
    "train_y = aq[1:40, 9]\n",
    "\n",
    "valid_x = aq[41:60, 4:8]\n",
    "valid_y = aq[41:60, 9]\n",
    "\n",
    "test_x = aq[61:80, 4:8]\n",
    "test_y = aq[61:80, 9];"
   ]
  },
  {
   "cell_type": "markdown",
   "metadata": {},
   "source": [
    "### Models:"
   ]
  },
  {
   "cell_type": "code",
   "execution_count": null,
   "metadata": {},
   "outputs": [],
   "source": [
    "betas_OLS = OrdinaryLeastSquares(train_x,train_y)"
   ]
  },
  {
   "cell_type": "code",
   "execution_count": null,
   "metadata": {},
   "outputs": [],
   "source": [
    "betas_LQS, LQS_qth_resid = LeastQuantileSquares(train_x,train_y,2)"
   ]
  },
  {
   "cell_type": "code",
   "execution_count": null,
   "metadata": {},
   "outputs": [],
   "source": [
    "betas_LTS, LTS_outlier_indicators = LeastTrimmedSquares(4,train_x,train_y)"
   ]
  },
  {
   "cell_type": "code",
   "execution_count": null,
   "metadata": {},
   "outputs": [],
   "source": [
    "betas_LTSR, LTSR_outlier_indicators = LeastTrimmedSumResiduals(4,train_x,train_y)"
   ]
  },
  {
   "cell_type": "code",
   "execution_count": null,
   "metadata": {},
   "outputs": [],
   "source": [
    "betas_BI, BI_outlier_indicators = BoundedInfluence(0.4,train_x,train_y)"
   ]
  },
  {
   "cell_type": "markdown",
   "metadata": {},
   "source": [
    "### MSEs:"
   ]
  },
  {
   "cell_type": "code",
   "execution_count": null,
   "metadata": {},
   "outputs": [],
   "source": [
    "mean((valid_y .- betas_OLS[1] .- valid_x*betas_OLS[2:end]).^2)\n",
    "mean((valid_y .- betas_LQS[1] .- valid_x*betas_LQS[2:end]).^2)\n",
    "mean((valid_y .- betas_LTS[1] .- valid_x*betas_LTS[2:end]).^2)\n",
    "mean((valid_y .- betas_LTSR[1] .- valid_x*betas_LTSR[2:end]).^2)\n",
    "mean((valid_y .- betas_BI[1] .- valid_x*betas_BI[2:end]).^2)"
   ]
  },
  {
   "cell_type": "code",
   "execution_count": null,
   "metadata": {},
   "outputs": [],
   "source": [
    "full_x = vcat(train_x, valid_x)\n",
    "full_y = vcat(train_y, valid_y);"
   ]
  },
  {
   "cell_type": "markdown",
   "metadata": {},
   "source": [
    "### Time Trials:"
   ]
  },
  {
   "cell_type": "code",
   "execution_count": null,
   "metadata": {},
   "outputs": [],
   "source": [
    "time_OLS = @suppress @benchmark OrdinaryLeastSquares(full_x,full_y)\n",
    "time(median(time_OLS))/1000000000"
   ]
  },
  {
   "cell_type": "code",
   "execution_count": null,
   "metadata": {},
   "outputs": [],
   "source": [
    "time_LQS = @suppress @benchmark betas_LQS, LQS_qth_resid = LeastQuantileSquares(full_x,full_y,2)\n",
    "time(median(time_LQS))/1000000000"
   ]
  },
  {
   "cell_type": "code",
   "execution_count": null,
   "metadata": {},
   "outputs": [],
   "source": [
    "time_LTS = @suppress @benchmark  LeastTrimmedSquares(4,full_x,full_y)\n",
    "time(median(time_LTS))/1000000000"
   ]
  },
  {
   "cell_type": "code",
   "execution_count": null,
   "metadata": {},
   "outputs": [],
   "source": [
    "time_LTSR = @suppress @benchmark LeastTrimmedSumResiduals(4,full_x,full_y)\n",
    "time(median(time_LTSR))/1000000000"
   ]
  },
  {
   "cell_type": "code",
   "execution_count": null,
   "metadata": {},
   "outputs": [],
   "source": [
    "time_BI = @suppress @benchmark BoundedInfluence(0.4,full_x,full_y)\n",
    "time(median(time_BI))/1000000000"
   ]
  },
  {
   "cell_type": "markdown",
   "metadata": {},
   "source": [
    "# End"
   ]
  }
 ],
 "metadata": {
  "kernelspec": {
   "display_name": "Julia 1.2.0",
   "language": "julia",
   "name": "julia-1.2"
  },
  "language_info": {
   "file_extension": ".jl",
   "mimetype": "application/julia",
   "name": "julia",
   "version": "1.2.0"
  }
 },
 "nbformat": 4,
 "nbformat_minor": 2
}

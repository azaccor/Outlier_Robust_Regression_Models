{
 "cells": [
  {
   "cell_type": "code",
   "execution_count": null,
   "metadata": {},
   "outputs": [
    {
     "name": "stderr",
     "output_type": "stream",
     "text": [
      "┌ Info: Recompiling stale cache file /Users/austinzaccor/.julia/compiled/v1.2/Distributions/xILW0.ji for Distributions [31c24e10-a181-5473-b8eb-7969acd0382f]\n",
      "└ @ Base loading.jl:1240\n"
     ]
    }
   ],
   "source": [
    "using JuMP, IJulia, Gurobi, DataFrames, CSV, Random, LinearAlgebra, Distributions"
   ]
  },
  {
   "cell_type": "code",
   "execution_count": null,
   "metadata": {},
   "outputs": [],
   "source": [
    "function generate_synthetic_data(β0, β1; SNR = 30)\n",
    "    Random.seed!(99)\n",
    "    X1 = rand(40,4) \n",
    "    Y1 = β0 .+ X1 * β1 \n",
    "    noise = randn(40)\n",
    "    k = sqrt(var(Y1) / (SNR*var(noise)))\n",
    "    Y_with_noise = Y1 + k.*noise\n",
    "    df = hcat(Y_with_noise,X1)\n",
    "    return df\n",
    "end"
   ]
  },
  {
   "cell_type": "code",
   "execution_count": null,
   "metadata": {},
   "outputs": [],
   "source": [
    "function create_data(n, p, contam_prct, sig_noise_ratio)\n",
    "    Random.seed!(99)\n",
    "    ## Create indices to contaminate X and y\n",
    "    contam = randperm(n*(p+1))[1:Int(round(n*contam_prct))]\n",
    "#     X = []\n",
    "#     y = []\n",
    "    \n",
    "    ## Create X vars where the mean and sd of each successive column increases (no real reason)\n",
    "    ## If the count of the nested for loop iterator == anything in contam indices, add from U(80,200)\n",
    "    count = 0\n",
    "    X = randn(n,p)\n",
    "#     ## Reshape to create matrix\n",
    "#     X = convert(Matrix, reshape(X, n, p))\n",
    "    \n",
    "    ## Create true 𝛽 values\n",
    "    if p == 4\n",
    "        𝛽 = [0.4, -0.5, 0.8, 0.5]\n",
    "    elseif p == 5 && contam_prct == .12\n",
    "        𝛽 = [0.3, -0.6, 1, 0.7, -0.5]\n",
    "    elseif p == 5 && contam_prct == .24\n",
    "        𝛽 = [0.3, -0.6, 1.3, 0.7, -0.7] \n",
    "    elseif p == 6\n",
    "        𝛽 = [0.3, -0.4, 0.6, 0.4, -0.6, 0.6]\n",
    "    end\n",
    "    \n",
    "    \n",
    "    y_pre_noise = X*𝛽 \n",
    "#     @show y\n",
    "    noise = randn(n)\n",
    "    e = sqrt(var(y_pre_noise)/(sig_noise_ratio*var(noise)))\n",
    "    @show e\n",
    "    y = y_pre_noise + e.*noise\n",
    "#     @show y\n",
    "    \n",
    "    for i in 1:n\n",
    "        count += 1\n",
    "        if count in contam\n",
    "            y[i] += rand(Uniform(6, 10), 1)[1]\n",
    "        else\n",
    "            y[i] = y[i]\n",
    "        end\n",
    "    end\n",
    "    \n",
    "    ## Perturb some of the X values now that Y has been created uncontaminated\n",
    "    X = vec(reshape(X, n*p, 1))\n",
    "    count2 = 0\n",
    "    for i in 1:(n*p)\n",
    "        count2 += 1\n",
    "        if count2 in contam\n",
    "            X[i] += rand(Uniform(4,6), 1)[1]\n",
    "        end \n",
    "    end\n",
    "    X = convert(Matrix, reshape(X, n, p))\n",
    "    \n",
    "    ## Store outlier location in row, col form:\n",
    "    contam_ind = sort(contam)\n",
    "    cols = []\n",
    "    rows = []\n",
    "    for i in 1:length(contam_ind)\n",
    "        append!(cols, ceil(Int, contam_ind[i]/n))\n",
    "        if contam_ind[i] % n == 0\n",
    "            append!(rows, n)\n",
    "        else\n",
    "            append!(rows, contam_ind[i] % n)\n",
    "        end\n",
    "    end\n",
    "    outliers = hcat(cols, rows)\n",
    "    \n",
    "    return X, y, 𝛽, contam, outliers\n",
    "end"
   ]
  },
  {
   "cell_type": "code",
   "execution_count": null,
   "metadata": {},
   "outputs": [],
   "source": [
    "function get_outliers(contam, n, p)\n",
    "    ## Be able to return the indices of outliers\n",
    "    contam_ind = sort(contam)\n",
    "    cols = []\n",
    "    rows = []\n",
    "    for i in 1:length(contam_ind)\n",
    "        append!(cols, ceil(Int, contam_ind[i]/n))\n",
    "        if contam_ind[i] % n == 0\n",
    "            append!(rows, n)\n",
    "        else\n",
    "            append!(rows, contam_ind[i] % n)\n",
    "        end\n",
    "    end\n",
    "\n",
    "    for i in 1:length(contam_ind)\n",
    "        if cols[i] <= p\n",
    "            println(\"Outlier \", i, \" in X\", cols[i], \", row \", rows[i])\n",
    "        else\n",
    "            println(\"Outlier \", i, \" in Y, row \", rows[i])\n",
    "        end\n",
    "    end\n",
    "end"
   ]
  },
  {
   "cell_type": "code",
   "execution_count": null,
   "metadata": {},
   "outputs": [],
   "source": [
    "X1, y1, 𝛽1, contam1, outliers1 = create_data(25, 4, 0, 40);\n",
    "X2, y2, 𝛽2, contam2, outliers2 = create_data(40, 5, 0.12, 40);\n",
    "X3, y3, 𝛽3, contam3, outliers3 = create_data(40, 5, 0.24, 40);\n",
    "X4, y4, 𝛽4, contam4, outliers4 = create_data(80, 6, 0.36, 40);"
   ]
  },
  {
   "cell_type": "code",
   "execution_count": null,
   "metadata": {},
   "outputs": [],
   "source": [
    "#get_outliers(contam1, 25, 4)\n",
    "#get_outliers(contam2, 40, 5)\n",
    "get_outliers(contam3, 40, 5)\n",
    "#get_outliers(contam4, 80, 6)"
   ]
  },
  {
   "cell_type": "code",
   "execution_count": null,
   "metadata": {},
   "outputs": [],
   "source": [
    "# Test:\n",
    "mean(y3 - X3*𝛽3)"
   ]
  },
  {
   "cell_type": "code",
   "execution_count": null,
   "metadata": {},
   "outputs": [],
   "source": [
    "sd_X1 = map(std, (X1[:,j] for j=1:size(X1,2)))\n",
    "sd_X2 = map(std, (X2[:,j] for j=1:size(X2,2)))\n",
    "sd_X3 = map(std, (X3[:,j] for j=1:size(X3,2)))\n",
    "sd_X4 = map(std, (X4[:,j] for j=1:size(X4,2)))\n",
    "\n",
    "𝛽1s = 𝛽1.*(sd_X1/std(y1))\n",
    "𝛽2s = 𝛽2.*(sd_X2/std(y2))\n",
    "𝛽3s = 𝛽3.*(sd_X3/std(y3))\n",
    "𝛽4s = 𝛽4.*(sd_X4/std(y4));"
   ]
  },
  {
   "cell_type": "code",
   "execution_count": null,
   "metadata": {},
   "outputs": [],
   "source": [
    "## Create dataframes with X and y\n",
    "df1 = hcat(y1, X1);\n",
    "df2 = hcat(y2, X2);\n",
    "df3 = hcat(y3, X3);\n",
    "df4 = hcat(y4, X4);\n",
    "#df5 = hcat(y5, X5);"
   ]
  },
  {
   "cell_type": "code",
   "execution_count": null,
   "metadata": {},
   "outputs": [],
   "source": [
    "CSV.write(\"Data/df1.csv\", DataFrame(df1); writeheader=false);\n",
    "CSV.write(\"Data/df2.csv\", DataFrame(df2); writeheader=false);\n",
    "CSV.write(\"Data/df3.csv\", DataFrame(df3); writeheader=false);\n",
    "CSV.write(\"Data/df4.csv\", DataFrame(df4); writeheader=false);\n",
    "#CSV.write(\"Data/df5.csv\", DataFrame(df5); writeheader=false);"
   ]
  }
 ],
 "metadata": {
  "kernelspec": {
   "display_name": "Julia 1.2.0",
   "language": "julia",
   "name": "julia-1.2"
  },
  "language_info": {
   "file_extension": ".jl",
   "mimetype": "application/julia",
   "name": "julia",
   "version": "1.2.0"
  }
 },
 "nbformat": 4,
 "nbformat_minor": 2
}
